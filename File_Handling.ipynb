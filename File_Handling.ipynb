{
  "nbformat": 4,
  "nbformat_minor": 0,
  "metadata": {
    "colab": {
      "provenance": []
    },
    "kernelspec": {
      "name": "python3",
      "display_name": "Python 3"
    },
    "language_info": {
      "name": "python"
    }
  },
  "cells": [
    {
      "cell_type": "markdown",
      "source": [
        "1. How can you open a file for writing in Python and write a string to it?"
      ],
      "metadata": {
        "id": "Pbni4JCvPnZt"
      }
    },
    {
      "cell_type": "code",
      "execution_count": 1,
      "metadata": {
        "id": "daSGxHdYPdML"
      },
      "outputs": [],
      "source": [
        "with open(\"my_file.txt\", \"w\") as f:\n",
        "  f.write(\"This is a string to be written to the file.\")\n"
      ]
    },
    {
      "cell_type": "markdown",
      "source": [
        "2.Write a Python program to read the contents of a file and print each line?"
      ],
      "metadata": {
        "id": "q8XlJpn5QQC5"
      }
    },
    {
      "cell_type": "code",
      "source": [
        "with open(\"my_file.txt\", \"r\") as f:\n",
        "  for line in f:\n",
        "    print(line)"
      ],
      "metadata": {
        "colab": {
          "base_uri": "https://localhost:8080/"
        },
        "id": "N0FXRW9WQVQU",
        "outputId": "c12df79d-384e-4f3a-ae2d-5332a1b954ca"
      },
      "execution_count": 2,
      "outputs": [
        {
          "output_type": "stream",
          "name": "stdout",
          "text": [
            "This is a string to be written to the file.\n"
          ]
        }
      ]
    },
    {
      "cell_type": "markdown",
      "source": [
        "3. How would you handle a case where the file doesn't exist while trying to open it for reading"
      ],
      "metadata": {
        "id": "22kkEldeQl5s"
      }
    },
    {
      "cell_type": "code",
      "source": [
        "# code\n",
        "try:\n",
        "  with open(\"non_existent_file.txt\", \"r\") as f:\n",
        "    for line in f:\n",
        "      print(line)\n",
        "except FileNotFoundError:\n",
        "  print(\"Error: The file was not found.\")\n"
      ],
      "metadata": {
        "id": "KTHvP8VWQ2lX"
      },
      "execution_count": null,
      "outputs": []
    },
    {
      "cell_type": "markdown",
      "source": [
        "4.  Write a Python script that reads from one file and writes its content to another file"
      ],
      "metadata": {
        "id": "IZa6UeXrRACT"
      }
    },
    {
      "cell_type": "code",
      "source": [
        "input_filename = \"input.txt\"\n",
        "output_filename = \"output.txt\"\n",
        "\n",
        "try:\n",
        "    with open(input_filename, 'r') as infile:\n",
        "        file_content = infile.read()\n",
        "    with open(output_filename, 'w') as outfile:\n",
        "        outfile.write(file_content)\n",
        "\n",
        "    print(f\"Successfully copied content from '{input_filename}' to '{output_filename}'.\")\n",
        "\n",
        "except FileNotFoundError:\n",
        "    print(f\"Error: Input file '{input_filename}' not found.\")\n",
        "except Exception as e:\n",
        "    print(f\"An error occurred: {e}\")"
      ],
      "metadata": {
        "colab": {
          "base_uri": "https://localhost:8080/"
        },
        "id": "tafq3NuhTiPv",
        "outputId": "3e67a77e-2109-4cfe-b971-faa95fe41491"
      },
      "execution_count": 6,
      "outputs": [
        {
          "output_type": "stream",
          "name": "stdout",
          "text": [
            "Error: Input file 'input.txt' not found.\n"
          ]
        }
      ]
    },
    {
      "cell_type": "markdown",
      "source": [
        "5. How would you catch and handle division by zero error in Python?"
      ],
      "metadata": {
        "id": "zdbfL_X7Tksv"
      }
    },
    {
      "cell_type": "code",
      "source": [
        "try:\n",
        "  result = 10 / 0\n",
        "except ZeroDivisionError:\n",
        "  print(\"Error: Division by zero is not allowed.\")\n",
        "\n"
      ],
      "metadata": {
        "colab": {
          "base_uri": "https://localhost:8080/"
        },
        "id": "2tnI2uI5ULjO",
        "outputId": "789fb826-2cd6-4b06-af0d-4aa5961a168b"
      },
      "execution_count": 7,
      "outputs": [
        {
          "output_type": "stream",
          "name": "stdout",
          "text": [
            "Error: Division by zero is not allowed.\n"
          ]
        }
      ]
    },
    {
      "cell_type": "markdown",
      "source": [
        "6. Write a Python program that logs an error message to a log file when a division by zero exception occurs?"
      ],
      "metadata": {
        "id": "e3BthCPUUVIL"
      }
    },
    {
      "cell_type": "code",
      "source": [
        "import logging\n",
        "\n",
        "logging.basicConfig(filename='error.log', level=logging.ERROR,\n",
        "                    format='%(asctime)s - %(levelname)s - %(message)s')\n",
        "\n",
        "try:\n",
        "  result = 10 / 0\n",
        "except ZeroDivisionError:\n",
        "  logging.error(\"Division by zero occurred.\")\n",
        "\n",
        "print(\"Program finished. Check error.log for details.\")"
      ],
      "metadata": {
        "colab": {
          "base_uri": "https://localhost:8080/"
        },
        "id": "MfMIknHpU3Zy",
        "outputId": "0d53a0e4-2144-4266-f0fb-0b2ddd2d30c2"
      },
      "execution_count": 8,
      "outputs": [
        {
          "output_type": "stream",
          "name": "stderr",
          "text": [
            "ERROR:root:Division by zero occurred.\n"
          ]
        },
        {
          "output_type": "stream",
          "name": "stdout",
          "text": [
            "Program finished. Check error.log for details.\n"
          ]
        }
      ]
    },
    {
      "cell_type": "markdown",
      "source": [
        "7.How do you log information at different levels (INFO, ERROR, WARNING) in Python using the logging module?"
      ],
      "metadata": {
        "id": "5T-VdOpxU6rs"
      }
    },
    {
      "cell_type": "code",
      "source": [
        "logging.basicConfig(level=logging.DEBUG,\n",
        "                    format='%(asctime)s - %(levelname)s - %(message)s')\n",
        "\n",
        "logging.debug(\"This is a debug message.\")\n",
        "logging.info(\"This is an info message.\")\n",
        "logging.warning(\"This is a warning message.\")\n",
        "logging.error(\"This is an error message.\")\n",
        "logging.critical(\"This is a critical message.\")"
      ],
      "metadata": {
        "colab": {
          "base_uri": "https://localhost:8080/"
        },
        "id": "-DY3mCnHVMG0",
        "outputId": "0546b865-9bf3-4b35-fe70-21619cea331e"
      },
      "execution_count": 9,
      "outputs": [
        {
          "output_type": "stream",
          "name": "stderr",
          "text": [
            "WARNING:root:This is a warning message.\n",
            "ERROR:root:This is an error message.\n",
            "CRITICAL:root:This is a critical message.\n"
          ]
        }
      ]
    },
    {
      "cell_type": "markdown",
      "source": [
        "8. Write a program to handle a file opening error using exception handling?"
      ],
      "metadata": {
        "id": "7saXn3vHVQ3n"
      }
    },
    {
      "cell_type": "code",
      "source": [
        "try:\n",
        "  with open(\"non_existent_file_for_error_handling.txt\", \"r\") as f:\n",
        "    for line in f:\n",
        "      print(line)\n",
        "except FileNotFoundError:\n",
        "  print(\"Error: Could not open the file because it was not found.\")\n",
        "except IOError:\n",
        "  print(\"Error: An general I/O error occurred while trying to open the file.\")\n",
        "except Exception as e:\n",
        "  print(f\"An unexpected error occurred: {e}\")"
      ],
      "metadata": {
        "id": "YB561sr0VW7Y"
      },
      "execution_count": null,
      "outputs": []
    },
    {
      "cell_type": "markdown",
      "source": [
        "9. How can you read a file line by line and store its content in a list in Python"
      ],
      "metadata": {
        "id": "6UR9QMcdVdrt"
      }
    },
    {
      "cell_type": "code",
      "source": [
        "filename = \"your_file.txt\"\n",
        "lines_list = []\n",
        "\n",
        "try:\n",
        "  with open(filename, 'r') as file:\n",
        "    for line in file:\n",
        "      lines_list.append(line.strip())\n",
        "  print(f\"File '{filename}' read successfully. Content stored in a list:\")\n",
        "  print(lines_list)\n",
        "\n",
        "except FileNotFoundError:\n",
        "  print(f\"Error: The file '{filename}' was not found.\")\n",
        "except Exception as e:\n",
        "  print(f\"An error occurred while reading the file: {e}\")"
      ],
      "metadata": {
        "id": "H6e2deXsVryF"
      },
      "execution_count": null,
      "outputs": []
    },
    {
      "cell_type": "markdown",
      "source": [
        "10.  How can you append data to an existing file in Python?"
      ],
      "metadata": {
        "id": "sLBUwKf9Vv1E"
      }
    },
    {
      "cell_type": "code",
      "source": [
        "file_1 = []\n",
        "with open(\"file_1.txt\", \"r\") as f:\n",
        "    for line in f:\n",
        "        file_1.append(line)\n",
        "print(file_1)\n"
      ],
      "metadata": {
        "colab": {
          "base_uri": "https://localhost:8080/"
        },
        "id": "3jkcbivhV2dZ",
        "outputId": "2d34863f-3211-4d52-f73e-7b5421093197"
      },
      "execution_count": 15,
      "outputs": [
        {
          "output_type": "stream",
          "name": "stdout",
          "text": [
            "[]\n"
          ]
        }
      ]
    },
    {
      "cell_type": "markdown",
      "source": [
        "11. Write a Python program that uses a try-except block to handle an error when attempting to access a\n",
        "dictionary key that doesn't exist"
      ],
      "metadata": {
        "id": "CY6TR-CHXrbC"
      }
    },
    {
      "cell_type": "code",
      "source": [
        "# code\n",
        "my_dict = {\"a\": 1, \"b\": 2}\n",
        "\n",
        "try:\n",
        "  value = my_dict[\"c\"]\n",
        "  print(value)\n",
        "except KeyError:\n",
        "  print(\"Error: The requested dictionary key does not exist.\")"
      ],
      "metadata": {
        "id": "4cRfb2jEXrFg"
      },
      "execution_count": null,
      "outputs": []
    },
    {
      "cell_type": "markdown",
      "source": [
        "12. Write a program that demonstrates using multiple except blocks to handle different types of exceptions."
      ],
      "metadata": {
        "id": "2tgc6pQOX6KT"
      }
    },
    {
      "cell_type": "code",
      "source": [
        "try:\n",
        "  num1 = int(input(\"Enter a number: \"))\n",
        "  num2 = int(input(\"Enter another number: \"))\n",
        "  result = num1 / num2\n",
        "  my_list = [1, 2, 3]\n",
        "  print(my_list[result]) # This will cause a TypeError\n",
        "except ValueError:\n",
        "  print(\"Error: Invalid input. Please enter integers.\")\n",
        "except ZeroDivisionError:\n",
        "  print(\"Error: Division by zero is not allowed.\")\n",
        "except IndexError:\n",
        "  print(\"Error: Index out of range for the list.\")\n",
        "except Exception as e:\n",
        "  print(f\"An unexpected error occurred: {e}\")\n",
        "else:\n",
        "  print(\"Calculation successful and no errors occurred.\")\n",
        "finally:\n",
        "  print(\"Execution of the try-except block is complete.\")"
      ],
      "metadata": {
        "colab": {
          "base_uri": "https://localhost:8080/"
        },
        "id": "ymB83hpIYEO7",
        "outputId": "0347a922-e072-4e0c-c506-7503db787bf0"
      },
      "execution_count": 16,
      "outputs": [
        {
          "output_type": "stream",
          "name": "stdout",
          "text": [
            "Enter a number: 4\n",
            "Enter another number: 5\n",
            "An unexpected error occurred: list indices must be integers or slices, not float\n",
            "Execution of the try-except block is complete.\n"
          ]
        }
      ]
    },
    {
      "cell_type": "markdown",
      "source": [
        "13. F How would you check if a file exists before attempting to read it in Python"
      ],
      "metadata": {
        "id": "gl7lI6PKYJXe"
      }
    },
    {
      "cell_type": "code",
      "source": [
        "import os\n",
        "\n",
        "filename_to_check = \"my_file.txt\"\n",
        "\n",
        "if os.path.exists(filename_to_check):\n",
        "  print(f\"The file '{filename_to_check}' exists. Reading its content:\")\n",
        "  try:\n",
        "    with open(filename_to_check, \"r\") as f:\n",
        "      for line in f:\n",
        "        print(line.strip())\n",
        "  except IOError:\n",
        "    print(f\"Error: An I/O error occurred while reading '{filename_to_check}'.\")\n",
        "  except Exception as e:\n",
        "    print(f\"An unexpected error occurred: {e}\")\n",
        "else:\n",
        "  print(f\"Error: The file '{filename_to_check}' does not exist.\")"
      ],
      "metadata": {
        "id": "qAhMk9O1YIqq"
      },
      "execution_count": null,
      "outputs": []
    },
    {
      "cell_type": "markdown",
      "source": [
        "14.Write a program that uses the logging module to log both informational and error messages"
      ],
      "metadata": {
        "id": "-Za1zqy_YZYS"
      }
    },
    {
      "cell_type": "code",
      "source": [
        "logging.basicConfig(level=logging.INFO,\n",
        "                    format='%(asctime)s - %(levelname)s - %(message)s')\n",
        "\n",
        "logging.info(\"This is an informational message.\")\n",
        "\n",
        "try:\n",
        "    result = 10 / 0\n",
        "except ZeroDivisionError:\n",
        "    logging.error(\"An error occurred: Division by zero.\")"
      ],
      "metadata": {
        "id": "BpbENToPYnka",
        "outputId": "1c7dee9f-02ed-4cf6-a56a-a95c5b318854",
        "colab": {
          "base_uri": "https://localhost:8080/"
        }
      },
      "execution_count": 17,
      "outputs": [
        {
          "output_type": "stream",
          "name": "stderr",
          "text": [
            "ERROR:root:An error occurred: Division by zero.\n"
          ]
        }
      ]
    },
    {
      "cell_type": "markdown",
      "source": [
        "15. Write a Python program that prints the content of a file and handles the case when the file is empty?"
      ],
      "metadata": {
        "id": "8Uw6w_szY4_2"
      }
    },
    {
      "cell_type": "code",
      "source": [
        "filename = \"your_file_to_check.txt\"\n",
        "\n",
        "try:\n",
        "  with open(filename, \"r\") as f:\n",
        "    content = f.read()\n",
        "    if not content:\n",
        "      print(f\"The file '{filename}' is empty.\")\n",
        "    else:\n",
        "      print(f\"Content of '{filename}':\")\n",
        "      print(content)\n",
        "except FileNotFoundError:\n",
        "  print(f\"Error: The file '{filename}' was not found.\")\n",
        "except IOError:\n",
        "  print(f\"Error: An I/O error occurred while reading '{filename}'.\")\n",
        "except Exception as e:\n",
        "  print(f\"An unexpected error occurred: {e}\")"
      ],
      "metadata": {
        "id": "ucOf1mD6ZE_J",
        "outputId": "00723a7a-7342-4696-9ab6-d2660b8bdf7b",
        "colab": {
          "base_uri": "https://localhost:8080/"
        }
      },
      "execution_count": 18,
      "outputs": [
        {
          "output_type": "stream",
          "name": "stdout",
          "text": [
            "Error: The file 'your_file_to_check.txt' was not found.\n"
          ]
        }
      ]
    },
    {
      "cell_type": "markdown",
      "source": [
        "16. Demonstrate how to use memory profiling to check the memory usage of a small program"
      ],
      "metadata": {
        "id": "vJJvkTmUZHvI"
      }
    },
    {
      "cell_type": "code",
      "source": [
        "!pip install memory_profiler\n",
        "\n",
        "%load_ext memory_profiler\n",
        "\n",
        "@profile\n",
        "def my_memory_intensive_function():\n",
        "    a = [1] * (10 ** 6)\n",
        "    b = [2] * (2 * 10 ** 7)\n",
        "    del b\n",
        "    return a\n",
        "\n",
        "if __name__ == '__main__':\n",
        "    my_memory_intensive_function()\n",
        "\n"
      ],
      "metadata": {
        "id": "h5_OA0g8ZHJY"
      },
      "execution_count": null,
      "outputs": []
    },
    {
      "cell_type": "markdown",
      "source": [
        "17. Write a Python program to create and write a list of numbers to a file, one number per line"
      ],
      "metadata": {
        "id": "z0-MhO2RZlHz"
      }
    },
    {
      "cell_type": "code",
      "source": [
        "numbers = [10, 20, 30, 40, 50]\n",
        "output_filename = \"numbers.txt\"\n",
        "\n",
        "try:\n",
        "  with open(output_filename, \"w\") as f:\n",
        "    for number in numbers:\n",
        "      f.write(str(number) + \"\\n\")\n",
        "  print(f\"Successfully wrote numbers to '{output_filename}'.\")\n",
        "except IOError:\n",
        "  print(f\"Error: An I/O error occurred while writing to '{output_filename}'.\")\n",
        "except Exception as e:\n",
        "  print(f\"An unexpected error occurred: {e}\")"
      ],
      "metadata": {
        "id": "jgHadIrTZk4k",
        "outputId": "5a6cd3f0-fd6c-40a0-87a1-f4dbde0e2366",
        "colab": {
          "base_uri": "https://localhost:8080/"
        }
      },
      "execution_count": 20,
      "outputs": [
        {
          "output_type": "stream",
          "name": "stdout",
          "text": [
            "Successfully wrote numbers to 'numbers.txt'.\n"
          ]
        }
      ]
    },
    {
      "cell_type": "markdown",
      "source": [
        "19.How would you implement a basic logging setup that logs to a file with rotation after 1MB"
      ],
      "metadata": {
        "id": "GePNsWbfZvx2"
      }
    },
    {
      "cell_type": "code",
      "source": [
        "from logging.handlers import RotatingFileHandler\n",
        "\n",
        "log_file = \"rotating_log.log\"\n",
        "max_bytes = 1024 * 1024\n",
        "backup_count = 5\n",
        "\n",
        "logger = logging.getLogger('my_rotating_logger')\n",
        "logger.setLevel(logging.INFO)\n",
        "handler = RotatingFileHandler(log_file, maxBytes=max_bytes, backupCount=backup_count)\n",
        "\n",
        "#01 Create a formatter\n",
        "formatter = logging.Formatter('%(asctime)s - %(name)s - %(levelname)s - %(message)s')\n",
        "handler.setFormatter(formatter)\n",
        "\n",
        "#02 Add the handler to the logger,a\n",
        "logger.addHandler(handler)\n",
        "\n",
        "#03 Example logging . Angaj\n",
        "logger.info(\"This is an informational message.\")\n",
        "logger.warning(\"This is a warning message.\")\n",
        "logger.error(\"This is an error message.\")\n",
        "\n",
        "print(f\"Logging setup complete. Messages being written to {log_file}\")\n",
        "print(\"The log file will rotate after reaching 1MB.\")"
      ],
      "metadata": {
        "id": "gFzTItHcZ8OD",
        "outputId": "c7eaacef-8761-4eae-cac2-91d0f6edbbd5",
        "colab": {
          "base_uri": "https://localhost:8080/"
        }
      },
      "execution_count": 21,
      "outputs": [
        {
          "output_type": "stream",
          "name": "stderr",
          "text": [
            "INFO:my_rotating_logger:This is an informational message.\n",
            "WARNING:my_rotating_logger:This is a warning message.\n",
            "ERROR:my_rotating_logger:This is an error message.\n"
          ]
        },
        {
          "output_type": "stream",
          "name": "stdout",
          "text": [
            "Logging setup complete. Messages being written to rotating_log.log\n",
            "The log file will rotate after reaching 1MB.\n"
          ]
        }
      ]
    },
    {
      "cell_type": "markdown",
      "source": [
        "20. How would you open a file and read its contents using a context manager in Python"
      ],
      "metadata": {
        "id": "Nf-81GHaaNeD"
      }
    },
    {
      "cell_type": "code",
      "source": [
        "try:\n",
        "  with open(\"my_file.txt\", \"r\") as f:\n",
        "    content = f.read()\n",
        "    print(content)\n",
        "except FileNotFoundError:\n",
        "  print(\"Error: The file was not found.\")\n",
        "except IOError:\n",
        "  print(\"Error: An I/O error occurred.\")\n",
        "except Exception as e:\n",
        "  print(f\"An unexpected error occurred: {e}\")"
      ],
      "metadata": {
        "id": "SftzZ6eKaWjv",
        "outputId": "62792929-5c78-4176-a6ff-6d02c1c76ac1",
        "colab": {
          "base_uri": "https://localhost:8080/"
        }
      },
      "execution_count": 22,
      "outputs": [
        {
          "output_type": "stream",
          "name": "stdout",
          "text": [
            "This is a string to be written to the file.\n"
          ]
        }
      ]
    },
    {
      "cell_type": "markdown",
      "source": [
        "21. Write a Python program that reads a file and prints the number of occurrences of a specific word?"
      ],
      "metadata": {
        "id": "_8uEvHgFaYHB"
      }
    },
    {
      "cell_type": "code",
      "source": [
        "def count_word_occurrences(filename, target_word):\n",
        "  \"\"\"\n",
        "  Reads a file and counts the occurrences of a specific word.\n",
        "\n",
        "  Args:\n",
        "    filename: The path to the file.\n",
        "    target_word: The word to count.\n",
        "\n",
        "  Returns:\n",
        "    The number of occurrences of the target word, or -1 if the file\n",
        "    cannot be opened.\n",
        "  \"\"\"\n",
        "  try:\n",
        "    with open(filename, 'r') as f:\n",
        "      content = f.read()\n",
        "      # Simple word counting (case-insensitive and handles punctuation naively)\n",
        "      words = content.lower().split()\n",
        "      count = words.count(target_word.lower())\n",
        "      return count\n",
        "  except FileNotFoundError:\n",
        "    print(f\"Error: The file '{filename}' was not found.\")\n",
        "    return -1\n",
        "  except IOError:\n",
        "    print(f\"Error: An I/O error occurred while reading '{filename}'.\")\n",
        "    return -1\n",
        "  except Exception as e:\n",
        "    print(f\"An unexpected error occurred: {e}\")\n",
        "    return -1\n",
        "\n",
        "filename_to_check = \"my_file.txt\"\n",
        "word_to_find = \"file\"\n",
        "\n",
        "try:\n",
        "  with open(filename_to_check, \"w\") as f:\n",
        "    f.write(\"This is a test file.\\n\")\n",
        "    f.write(\"This file has the word file multiple times.\\n\")\n",
        "    f.write(\"Another line with file.\")\n",
        "except Exception as e:\n",
        "    print(f\"Could not create test file: {e}\")\n",
        "\n",
        "\n",
        "occurrences = count_word_occurrences(filename_to_check, word_to_find)\n",
        "\n",
        "if occurrences != -1:\n",
        "  print(f\"The word '{word_to_find}' appears {occurrences} times in '{filename_to_check}'.\")"
      ],
      "metadata": {
        "id": "O9DuVTEbac6C",
        "outputId": "354d5d3c-cc0b-4eca-cd5c-08d603874685",
        "colab": {
          "base_uri": "https://localhost:8080/"
        }
      },
      "execution_count": 23,
      "outputs": [
        {
          "output_type": "stream",
          "name": "stdout",
          "text": [
            "The word 'file' appears 2 times in 'my_file.txt'.\n"
          ]
        }
      ]
    },
    {
      "cell_type": "markdown",
      "source": [
        "22. How can you check if a file is empty before attempting to read its contents"
      ],
      "metadata": {
        "id": "fNxALV8pamaE"
      }
    },
    {
      "cell_type": "code",
      "source": [
        "filename_to_check = \"your_file_to_check.txt\"\n",
        "\n",
        "try:\n",
        "\n",
        "    if os.path.exists(filename_to_check):\n",
        "\n",
        "        if os.path.getsize(filename_to_check) == 0:\n",
        "            print(f\"The file '{filename_to_check}' is empty.\")\n",
        "        else:\n",
        "            print(f\"The file '{filename_to_check}' is not empty. Reading contents:\")\n",
        "            with open(filename_to_check, \"r\") as f:\n",
        "                content = f.read()\n",
        "                print(content)\n",
        "    else:\n",
        "        print(f\"Error: The file '{filename_to_check}' was not found.\")\n",
        "except FileNotFoundError:\n",
        "    print(f\"Error: The file '{filename_to_check}' was not found.\")\n",
        "except IOError:\n",
        "    print(f\"Error: An I/O error occurred while checking or reading '{filename_to_check}'.\")\n",
        "except Exception as e:\n",
        "    print(f\"An unexpected error occurred: {e}\")\n"
      ],
      "metadata": {
        "id": "7tIbD1C9aq3O"
      },
      "execution_count": null,
      "outputs": []
    },
    {
      "cell_type": "markdown",
      "source": [
        "23. Write a Python program that writes to a log file when an error occurs during file handling."
      ],
      "metadata": {
        "id": "L_OWQzzda1JP"
      }
    },
    {
      "cell_type": "code",
      "source": [
        "def read_file(file_name):\n",
        "    try:\n",
        "        with open(file_name, 'r') as file:\n",
        "            data = file.read()\n",
        "            print(\"File content:\\n\", data)\n",
        "    except Exception as e:\n",
        "        log_error(f\"Error reading file '{file_name}': {str(e)}\")\n",
        "\n",
        "def log_error(message):\n",
        "    with open(\"error_log.txt\", \"a\") as log_file:\n",
        "        from datetime import datetime\n",
        "        timestamp = datetime.now().strftime('%Y-%m-%d %H:%M:%S')\n",
        "        log_file.write(f\"[{timestamp}] {message}\\n\")\n",
        "\n",
        "read_file(\"non_existing_file.txt\")\n"
      ],
      "metadata": {
        "id": "WClwTFyibIPQ"
      },
      "execution_count": 24,
      "outputs": []
    },
    {
      "cell_type": "markdown",
      "source": [],
      "metadata": {
        "id": "oI1T5U4ZbNKV"
      }
    },
    {
      "cell_type": "code",
      "source": [],
      "metadata": {
        "id": "nGoouzrLbJAX"
      },
      "execution_count": null,
      "outputs": []
    },
    {
      "cell_type": "code",
      "source": [],
      "metadata": {
        "id": "OmZWLxNbbKhP"
      },
      "execution_count": null,
      "outputs": []
    },
    {
      "cell_type": "code",
      "source": [],
      "metadata": {
        "id": "iRggpy9SbKJd"
      },
      "execution_count": null,
      "outputs": []
    }
  ]
}